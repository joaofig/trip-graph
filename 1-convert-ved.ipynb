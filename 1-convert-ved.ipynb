{
 "cells": [
  {
   "cell_type": "markdown",
   "metadata": {},
   "source": [
    "# 1 - Convert Data from VED\n",
    "This short notebook converts the Vehicle Energy Dataset from the original multi-file CSV format to a more convenient single file parquet format. Parquet files do not require parsing, as CSV files do, so they are inherently faster to load.\n",
    "\n",
    "Start by downloading the data from https://github.com/gsoh/VED into the `data` folder (please create it if it is not there). After expanding all the CSV files, please run the code below.\n",
    "\n",
    "Note: Please install the `pyarrow` package before running this notebook."
   ]
  },
  {
   "cell_type": "code",
   "execution_count": null,
   "metadata": {},
   "outputs": [],
   "source": [
    "import numpy as np\n",
    "import pandas as pd\n",
    "import os"
   ]
  },
  {
   "cell_type": "markdown",
   "metadata": {},
   "source": [
    "Set the data path and target file name."
   ]
  },
  {
   "cell_type": "code",
   "execution_count": null,
   "metadata": {},
   "outputs": [],
   "source": [
    "data_path = \"./data\"\n",
    "parquet_file = os.path.join(data_path, \"ved.parquet\")"
   ]
  },
  {
   "cell_type": "markdown",
   "metadata": {},
   "source": [
    "The `read_data_frame` function reads a single VED CSV file into its own DataFrame object. It is meant to be used with the `map` function in a comprehension expression (see below)."
   ]
  },
  {
   "cell_type": "code",
   "execution_count": null,
   "metadata": {},
   "outputs": [],
   "source": [
    "def read_data_frame(filename):\n",
    "    columns = ['DayNum', 'VehId', 'Trip', 'Timestamp(ms)', 'Latitude[deg]', 'Longitude[deg]', \n",
    "               'Vehicle Speed[km/h]']\n",
    "    types = {'VehId': np.int64,\n",
    "             'Trip': np.int64,\n",
    "             'Timestamp(ms)': np.int64}\n",
    "    df = pd.read_csv(filename, usecols=columns, dtype=types)\n",
    "    return df"
   ]
  },
  {
   "cell_type": "markdown",
   "metadata": {},
   "source": [
    "Read all the files into the same DataFrame and dump it into a single parquet file."
   ]
  },
  {
   "cell_type": "code",
   "execution_count": null,
   "metadata": {},
   "outputs": [],
   "source": [
    "files = [os.path.join(data_path, file) for file in os.listdir(data_path) if file.endswith(\".csv\")]\n",
    "df = pd.concat(map(read_data_frame, files), ignore_index=True)\n",
    "df = df.sort_values(by=['VehId', 'DayNum', 'Timestamp(ms)'])\n",
    "df.to_parquet(parquet_file)"
   ]
  },
  {
   "cell_type": "code",
   "execution_count": null,
   "metadata": {},
   "outputs": [],
   "source": []
  }
 ],
 "metadata": {
  "kernelspec": {
   "display_name": "Python 3",
   "language": "python",
   "name": "python3"
  },
  "language_info": {
   "codemirror_mode": {
    "name": "ipython",
    "version": 3
   },
   "file_extension": ".py",
   "mimetype": "text/x-python",
   "name": "python",
   "nbconvert_exporter": "python",
   "pygments_lexer": "ipython3",
   "version": "3.6.8"
  }
 },
 "nbformat": 4,
 "nbformat_minor": 4
}
