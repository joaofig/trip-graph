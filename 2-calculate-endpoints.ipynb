{
 "cells": [
  {
   "cell_type": "markdown",
   "metadata": {},
   "source": [
    "# Trajectory Clustering 2\n",
    "In this notebook we calculate the trajectory enpoints from the VED data."
   ]
  },
  {
   "cell_type": "code",
   "execution_count": 1,
   "metadata": {},
   "outputs": [],
   "source": [
    "import numpy as np\n",
    "import pandas as pd\n",
    "import os\n",
    "import math\n",
    "import folium\n",
    "\n",
    "from sklearn.cluster import DBSCAN\n",
    "from collections import Counter"
   ]
  },
  {
   "cell_type": "code",
   "execution_count": null,
   "metadata": {},
   "outputs": [],
   "source": []
  },
  {
   "cell_type": "code",
   "execution_count": 2,
   "metadata": {},
   "outputs": [],
   "source": [
    "def get_ends(df):\n",
    "    return df.head(n=1).append(df.tail(n=1))"
   ]
  },
  {
   "cell_type": "code",
   "execution_count": null,
   "metadata": {},
   "outputs": [],
   "source": []
  },
  {
   "cell_type": "code",
   "execution_count": 3,
   "metadata": {},
   "outputs": [],
   "source": [
    "def cluster_ends(df):\n",
    "    pts = np.radians(df[['Latitude[deg]', 'Longitude[deg]']])\n",
    "\n",
    "    # Parameters\n",
    "    eps_in_meters = 50.0\n",
    "    num_samples = 10\n",
    "\n",
    "    # Cluster the data\n",
    "    earth_perimeter = 40070000.0  # In meters\n",
    "    eps_in_radians = eps_in_meters / earth_perimeter * (2 * math.pi)\n",
    "\n",
    "    end_clusters = DBSCAN(eps=eps_in_radians, \n",
    "                          min_samples=num_samples,\n",
    "                          metric='haversine',\n",
    "                          algorithm='ball_tree').fit_predict(pts)\n",
    "    df['end_id'] = end_clusters\n",
    "    return df"
   ]
  },
  {
   "cell_type": "code",
   "execution_count": null,
   "metadata": {},
   "outputs": [],
   "source": []
  },
  {
   "cell_type": "code",
   "execution_count": 4,
   "metadata": {},
   "outputs": [],
   "source": [
    "def make_path_map(df_list):\n",
    "    m = folium.Map()\n",
    "    \n",
    "    all_points = []\n",
    "    for df in df_list:\n",
    "        points = df[['Latitude[deg]', 'Longitude[deg]']].to_numpy()\n",
    "        polyline = folium.vector_layers.PolyLine(locations=points)\n",
    "        polyline.add_to(m)\n",
    "        all_points.extend(points.tolist())\n",
    "    m.fit_bounds(all_points)\n",
    "    return m"
   ]
  },
  {
   "cell_type": "markdown",
   "metadata": {},
   "source": [
    "`make_link_map`: Create a map based on a link, defined as the two terminal node identifiers."
   ]
  },
  {
   "cell_type": "code",
   "execution_count": 5,
   "metadata": {},
   "outputs": [],
   "source": [
    "def make_link_map(node_ini, node_end):\n",
    "    link_df = trip_df[(trip_df.NodeIni == node_ini) & (trip_df.NodeEnd == node_end)]\n",
    "    \n",
    "    path_list = []\n",
    "    for row in link_df.itertuples(index=False):\n",
    "        path = df[(df.DayNum == row.DayNum) & (df.VehId == row.VehId)].sort_values(by=['DayNum', 'Timestamp(ms)'])\n",
    "        path_list.append(path)\n",
    "    return make_path_map(path_list)"
   ]
  },
  {
   "cell_type": "markdown",
   "metadata": {},
   "source": [
    "## Read the Data\n",
    "We prepared the dataset file in the previous notebook, so it is readily available for use. Here, we set up a few variables related to the data folder name and file names."
   ]
  },
  {
   "cell_type": "code",
   "execution_count": 6,
   "metadata": {},
   "outputs": [],
   "source": [
    "data_path = \"./data\"\n",
    "endpoints_file = os.path.join(data_path, \"endpoints.parquet\")\n",
    "parquet_file = os.path.join(data_path, \"ved.parquet\")"
   ]
  },
  {
   "cell_type": "markdown",
   "metadata": {},
   "source": [
    "Read the dataset from the parquet file. If this file does not exist, please create it by using the code in the previous notebook: `1-convert-ved.ipynb`"
   ]
  },
  {
   "cell_type": "code",
   "execution_count": 7,
   "metadata": {},
   "outputs": [],
   "source": [
    "df = pd.read_parquet(parquet_file)"
   ]
  },
  {
   "cell_type": "markdown",
   "metadata": {},
   "source": [
    "### The Trip DataFrame\n",
    "Individual trips are identified by unique values of the `DayNum` and `VehId` pair. This DataFrame relates the unique pairs to the start and end node identifiers, to be later calculated. For now, we set them to `-1`."
   ]
  },
  {
   "cell_type": "code",
   "execution_count": 8,
   "metadata": {},
   "outputs": [],
   "source": [
    "trip_df = df.groupby(by=['DayNum', 'VehId']).size().reset_index().rename(columns={0:'Count'})"
   ]
  },
  {
   "cell_type": "code",
   "execution_count": 10,
   "metadata": {},
   "outputs": [],
   "source": [
    "trip_df['NodeIni'] = -1\n",
    "trip_df['NodeEnd'] = -1"
   ]
  },
  {
   "cell_type": "markdown",
   "metadata": {},
   "source": [
    "Here's how the `trip_df` table looks right now."
   ]
  },
  {
   "cell_type": "code",
   "execution_count": 11,
   "metadata": {},
   "outputs": [
    {
     "data": {
      "text/html": [
       "<div>\n",
       "<style scoped>\n",
       "    .dataframe tbody tr th:only-of-type {\n",
       "        vertical-align: middle;\n",
       "    }\n",
       "\n",
       "    .dataframe tbody tr th {\n",
       "        vertical-align: top;\n",
       "    }\n",
       "\n",
       "    .dataframe thead th {\n",
       "        text-align: right;\n",
       "    }\n",
       "</style>\n",
       "<table border=\"1\" class=\"dataframe\">\n",
       "  <thead>\n",
       "    <tr style=\"text-align: right;\">\n",
       "      <th></th>\n",
       "      <th>DayNum</th>\n",
       "      <th>VehId</th>\n",
       "      <th>Count</th>\n",
       "      <th>NodeIni</th>\n",
       "      <th>NodeEnd</th>\n",
       "    </tr>\n",
       "  </thead>\n",
       "  <tbody>\n",
       "    <tr>\n",
       "      <th>0</th>\n",
       "      <td>1.002938</td>\n",
       "      <td>550</td>\n",
       "      <td>131</td>\n",
       "      <td>-1</td>\n",
       "      <td>-1</td>\n",
       "    </tr>\n",
       "    <tr>\n",
       "      <th>1</th>\n",
       "      <td>1.015493</td>\n",
       "      <td>540</td>\n",
       "      <td>545</td>\n",
       "      <td>-1</td>\n",
       "      <td>-1</td>\n",
       "    </tr>\n",
       "    <tr>\n",
       "      <th>2</th>\n",
       "      <td>1.017633</td>\n",
       "      <td>156</td>\n",
       "      <td>690</td>\n",
       "      <td>-1</td>\n",
       "      <td>-1</td>\n",
       "    </tr>\n",
       "    <tr>\n",
       "      <th>3</th>\n",
       "      <td>1.025782</td>\n",
       "      <td>588</td>\n",
       "      <td>1150</td>\n",
       "      <td>-1</td>\n",
       "      <td>-1</td>\n",
       "    </tr>\n",
       "    <tr>\n",
       "      <th>4</th>\n",
       "      <td>1.054483</td>\n",
       "      <td>267</td>\n",
       "      <td>495</td>\n",
       "      <td>-1</td>\n",
       "      <td>-1</td>\n",
       "    </tr>\n",
       "    <tr>\n",
       "      <th>5</th>\n",
       "      <td>1.058991</td>\n",
       "      <td>11</td>\n",
       "      <td>396</td>\n",
       "      <td>-1</td>\n",
       "      <td>-1</td>\n",
       "    </tr>\n",
       "    <tr>\n",
       "      <th>6</th>\n",
       "      <td>1.062756</td>\n",
       "      <td>130</td>\n",
       "      <td>452</td>\n",
       "      <td>-1</td>\n",
       "      <td>-1</td>\n",
       "    </tr>\n",
       "    <tr>\n",
       "      <th>7</th>\n",
       "      <td>1.065486</td>\n",
       "      <td>174</td>\n",
       "      <td>273</td>\n",
       "      <td>-1</td>\n",
       "      <td>-1</td>\n",
       "    </tr>\n",
       "    <tr>\n",
       "      <th>8</th>\n",
       "      <td>1.082547</td>\n",
       "      <td>374</td>\n",
       "      <td>471</td>\n",
       "      <td>-1</td>\n",
       "      <td>-1</td>\n",
       "    </tr>\n",
       "    <tr>\n",
       "      <th>9</th>\n",
       "      <td>1.101627</td>\n",
       "      <td>156</td>\n",
       "      <td>697</td>\n",
       "      <td>-1</td>\n",
       "      <td>-1</td>\n",
       "    </tr>\n",
       "  </tbody>\n",
       "</table>\n",
       "</div>"
      ],
      "text/plain": [
       "     DayNum  VehId  Count  NodeIni  NodeEnd\n",
       "0  1.002938    550    131       -1       -1\n",
       "1  1.015493    540    545       -1       -1\n",
       "2  1.017633    156    690       -1       -1\n",
       "3  1.025782    588   1150       -1       -1\n",
       "4  1.054483    267    495       -1       -1\n",
       "5  1.058991     11    396       -1       -1\n",
       "6  1.062756    130    452       -1       -1\n",
       "7  1.065486    174    273       -1       -1\n",
       "8  1.082547    374    471       -1       -1\n",
       "9  1.101627    156    697       -1       -1"
      ]
     },
     "execution_count": 11,
     "metadata": {},
     "output_type": "execute_result"
    }
   ],
   "source": [
    "trip_df.head(10)"
   ]
  },
  {
   "cell_type": "code",
   "execution_count": null,
   "metadata": {},
   "outputs": [],
   "source": [
    "def get_trip_ini(row):\n",
    "    traj = ends_df[(ends_df.DayNum == row.DayNum) & (ends_df.VehId == row.VehId)].head(n=1)\n",
    "    return traj.end_id.values[0]\n",
    "\n",
    "def get_trip_end(row):\n",
    "    traj = ends_df[(ends_df.DayNum == row.DayNum) & (ends_df.VehId == row.VehId)].tail(n=1)\n",
    "    return traj.end_id.values[0]"
   ]
  },
  {
   "cell_type": "code",
   "execution_count": null,
   "metadata": {},
   "outputs": [],
   "source": []
  },
  {
   "cell_type": "code",
   "execution_count": null,
   "metadata": {},
   "outputs": [],
   "source": []
  },
  {
   "cell_type": "code",
   "execution_count": null,
   "metadata": {},
   "outputs": [],
   "source": []
  },
  {
   "cell_type": "code",
   "execution_count": null,
   "metadata": {},
   "outputs": [],
   "source": [
    "grp = df.groupby(by=['DayNum', 'VehId'])"
   ]
  },
  {
   "cell_type": "code",
   "execution_count": null,
   "metadata": {},
   "outputs": [],
   "source": []
  },
  {
   "cell_type": "code",
   "execution_count": null,
   "metadata": {},
   "outputs": [],
   "source": [
    "ends_df = pd.concat([get_ends(d) for k, d in grp])"
   ]
  },
  {
   "cell_type": "code",
   "execution_count": null,
   "metadata": {},
   "outputs": [],
   "source": [
    "ends_df = cluster_ends(ends_df)"
   ]
  },
  {
   "cell_type": "code",
   "execution_count": null,
   "metadata": {},
   "outputs": [],
   "source": [
    "ends_df"
   ]
  },
  {
   "cell_type": "code",
   "execution_count": null,
   "metadata": {},
   "outputs": [],
   "source": [
    "# for k, d in grp:\n",
    "#     print(type(k), type(d))\n",
    "#     break"
   ]
  },
  {
   "cell_type": "code",
   "execution_count": null,
   "metadata": {},
   "outputs": [],
   "source": [
    "trip_df['NodeIni'] = trip_df.apply(get_trip_ini, axis=1)\n",
    "trip_df['NodeEnd'] = trip_df.apply(get_trip_end, axis=1)"
   ]
  },
  {
   "cell_type": "code",
   "execution_count": null,
   "metadata": {},
   "outputs": [],
   "source": [
    "trip_df"
   ]
  },
  {
   "cell_type": "code",
   "execution_count": null,
   "metadata": {},
   "outputs": [],
   "source": []
  },
  {
   "cell_type": "code",
   "execution_count": null,
   "metadata": {},
   "outputs": [],
   "source": [
    "ids = ends_df.end_id.to_numpy()"
   ]
  },
  {
   "cell_type": "code",
   "execution_count": null,
   "metadata": {},
   "outputs": [],
   "source": [
    "id_pairs = np.reshape(ids, (ids.shape[0] // 2, 2))"
   ]
  },
  {
   "cell_type": "code",
   "execution_count": null,
   "metadata": {},
   "outputs": [],
   "source": [
    "id_pairs"
   ]
  },
  {
   "cell_type": "code",
   "execution_count": null,
   "metadata": {},
   "outputs": [],
   "source": [
    "edges = [(id_pairs[i,0], id_pairs[i,1]) for i in range(id_pairs.shape[0]) if id_pairs[i,0] != -1 and id_pairs[i,1] != -1]"
   ]
  },
  {
   "cell_type": "code",
   "execution_count": null,
   "metadata": {},
   "outputs": [],
   "source": [
    "cnt = Counter(edges)"
   ]
  },
  {
   "cell_type": "code",
   "execution_count": null,
   "metadata": {},
   "outputs": [],
   "source": []
  },
  {
   "cell_type": "code",
   "execution_count": null,
   "metadata": {},
   "outputs": [],
   "source": [
    "data = [(p[0], p[1], cnt[p]) for p in cnt]"
   ]
  },
  {
   "cell_type": "code",
   "execution_count": null,
   "metadata": {},
   "outputs": [],
   "source": [
    "edge_df = pd.DataFrame(data, columns=['NodeIni', 'NodeEnd', 'Count'])"
   ]
  },
  {
   "cell_type": "code",
   "execution_count": null,
   "metadata": {},
   "outputs": [],
   "source": [
    "edge_df = edge_df.sort_values(by=['Count'], ascending=False)"
   ]
  },
  {
   "cell_type": "code",
   "execution_count": null,
   "metadata": {},
   "outputs": [],
   "source": [
    "edge_df.head(20)"
   ]
  },
  {
   "cell_type": "code",
   "execution_count": null,
   "metadata": {},
   "outputs": [],
   "source": []
  },
  {
   "cell_type": "code",
   "execution_count": null,
   "metadata": {},
   "outputs": [],
   "source": [
    "m = make_link_map(node_ini=1, node_end=3)"
   ]
  },
  {
   "cell_type": "code",
   "execution_count": null,
   "metadata": {},
   "outputs": [],
   "source": [
    "m.save(\"./html/map-1-3.html\")"
   ]
  },
  {
   "cell_type": "code",
   "execution_count": null,
   "metadata": {},
   "outputs": [],
   "source": []
  }
 ],
 "metadata": {
  "kernelspec": {
   "display_name": "Python 3",
   "language": "python",
   "name": "python3"
  },
  "language_info": {
   "codemirror_mode": {
    "name": "ipython",
    "version": 3
   },
   "file_extension": ".py",
   "mimetype": "text/x-python",
   "name": "python",
   "nbconvert_exporter": "python",
   "pygments_lexer": "ipython3",
   "version": "3.6.8"
  }
 },
 "nbformat": 4,
 "nbformat_minor": 4
}
