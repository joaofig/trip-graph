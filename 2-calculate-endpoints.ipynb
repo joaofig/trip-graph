{
 "cells": [
  {
   "cell_type": "markdown",
   "metadata": {},
   "source": [
    "# 2 - Calculate Endpoints\n",
    "In this notebook we calculate the trajectory endpoints from the VED data."
   ]
  },
  {
   "cell_type": "code",
   "execution_count": 1,
   "metadata": {},
   "outputs": [],
   "source": [
    "import numpy as np\n",
    "import pandas as pd\n",
    "import os\n",
    "import math\n",
    "import folium\n",
    "import networkx as nx\n",
    "\n",
    "from sklearn.cluster import DBSCAN\n",
    "from collections import Counter\n",
    "\n",
    "from geopy.geocoders import Nominatim\n",
    "from geopy.extra.rate_limiter import RateLimiter"
   ]
  },
  {
   "cell_type": "code",
   "execution_count": null,
   "metadata": {},
   "outputs": [],
   "source": []
  },
  {
   "cell_type": "code",
   "execution_count": 2,
   "metadata": {},
   "outputs": [],
   "source": [
    "def get_ends(df):\n",
    "    return df.head(n=1).append(df.tail(n=1))"
   ]
  },
  {
   "cell_type": "markdown",
   "metadata": {},
   "source": [
    "The `cluster_ends` function applies the DBSCAN clustering algorithm to the extracted trajectory endpoints. The input is a DataFrame with each trajectory's endpoints (start point and end point) only. The output is the same DataFrame with an added column named `end_id` containing the corresponding cluster identifier, or `-1` for a noise point. The data can later be joined to the original DataFrame and thus mark the start and end of each trajectory."
   ]
  },
  {
   "cell_type": "code",
   "execution_count": 3,
   "metadata": {},
   "outputs": [],
   "source": [
    "def cluster_ends(df):\n",
    "    pts = np.radians(df[['Latitude[deg]', 'Longitude[deg]']])\n",
    "\n",
    "    # Parameters\n",
    "    eps_in_meters = 50.0\n",
    "    num_samples = 10\n",
    "\n",
    "    # Cluster the data\n",
    "    earth_perimeter = 40070000.0  # In meters\n",
    "    eps_in_radians = eps_in_meters / earth_perimeter * (2 * math.pi)\n",
    "\n",
    "    end_clusters = DBSCAN(eps=eps_in_radians, \n",
    "                          min_samples=num_samples,\n",
    "                          metric='haversine',\n",
    "                          algorithm='ball_tree').fit_predict(pts)\n",
    "    df['end_id'] = end_clusters\n",
    "    return df"
   ]
  },
  {
   "cell_type": "markdown",
   "metadata": {},
   "source": [
    "The `make_path_map` function creates a Folium map based on a list of DataFrames, each with its own trajectory data. This function serves the `make_link_map` function (see below)."
   ]
  },
  {
   "cell_type": "code",
   "execution_count": 4,
   "metadata": {},
   "outputs": [],
   "source": [
    "def make_path_map(df_list):\n",
    "    m = folium.Map()\n",
    "    \n",
    "    all_points = []\n",
    "    for df in df_list:\n",
    "        points = df[['Latitude[deg]', 'Longitude[deg]']].to_numpy()\n",
    "        polyline = folium.vector_layers.PolyLine(locations=points)\n",
    "        polyline.add_to(m)\n",
    "        all_points.extend(points.tolist())\n",
    "    m.fit_bounds(all_points)\n",
    "    return m"
   ]
  },
  {
   "cell_type": "markdown",
   "metadata": {},
   "source": [
    "The `make_link_map` function creates a Folium map based on a _link_, defined as the two terminal node identifiers."
   ]
  },
  {
   "cell_type": "code",
   "execution_count": 5,
   "metadata": {},
   "outputs": [],
   "source": [
    "def make_link_map(node_ini, node_end):\n",
    "    link_df = trip_df[(trip_df.NodeIni == node_ini) & (trip_df.NodeEnd == node_end)]\n",
    "    \n",
    "    path_list = []\n",
    "    for row in link_df.itertuples(index=False):\n",
    "        path = df[(df.DayNum == row.DayNum) & (df.VehId == row.VehId)].sort_values(by=['DayNum', 'Timestamp(ms)'])\n",
    "        path_list.append(path)\n",
    "    return make_path_map(path_list)"
   ]
  },
  {
   "cell_type": "markdown",
   "metadata": {},
   "source": [
    "## Read the Data\n",
    "We prepared the dataset file in the previous notebook, so it is readily available for use. Here, we set up a few variables related to the data folder name and file names."
   ]
  },
  {
   "cell_type": "code",
   "execution_count": 6,
   "metadata": {},
   "outputs": [],
   "source": [
    "data_path = \"./data\"\n",
    "endpoints_file = os.path.join(data_path, \"endpoints.parquet\")\n",
    "parquet_file = os.path.join(data_path, \"ved.parquet\")"
   ]
  },
  {
   "cell_type": "markdown",
   "metadata": {},
   "source": [
    "Read the dataset from the parquet file. If this file does not exist, please create it by using the code in the previous notebook: `1-convert-ved.ipynb`"
   ]
  },
  {
   "cell_type": "code",
   "execution_count": 7,
   "metadata": {},
   "outputs": [],
   "source": [
    "df = pd.read_parquet(parquet_file)"
   ]
  },
  {
   "cell_type": "code",
   "execution_count": 8,
   "metadata": {},
   "outputs": [
    {
     "data": {
      "text/html": [
       "<div>\n",
       "<style scoped>\n",
       "    .dataframe tbody tr th:only-of-type {\n",
       "        vertical-align: middle;\n",
       "    }\n",
       "\n",
       "    .dataframe tbody tr th {\n",
       "        vertical-align: top;\n",
       "    }\n",
       "\n",
       "    .dataframe thead th {\n",
       "        text-align: right;\n",
       "    }\n",
       "</style>\n",
       "<table border=\"1\" class=\"dataframe\">\n",
       "  <thead>\n",
       "    <tr style=\"text-align: right;\">\n",
       "      <th></th>\n",
       "      <th>DayNum</th>\n",
       "      <th>VehId</th>\n",
       "      <th>Trip</th>\n",
       "      <th>Timestamp(ms)</th>\n",
       "      <th>Latitude[deg]</th>\n",
       "      <th>Longitude[deg]</th>\n",
       "      <th>Vehicle Speed[km/h]</th>\n",
       "    </tr>\n",
       "  </thead>\n",
       "  <tbody>\n",
       "    <tr>\n",
       "      <th>10495643</th>\n",
       "      <td>9.558109</td>\n",
       "      <td>2</td>\n",
       "      <td>685</td>\n",
       "      <td>0</td>\n",
       "      <td>42.302569</td>\n",
       "      <td>-83.704196</td>\n",
       "      <td>27.0</td>\n",
       "    </tr>\n",
       "    <tr>\n",
       "      <th>10495644</th>\n",
       "      <td>9.558109</td>\n",
       "      <td>2</td>\n",
       "      <td>685</td>\n",
       "      <td>700</td>\n",
       "      <td>42.302569</td>\n",
       "      <td>-83.704196</td>\n",
       "      <td>27.0</td>\n",
       "    </tr>\n",
       "    <tr>\n",
       "      <th>10495645</th>\n",
       "      <td>9.558109</td>\n",
       "      <td>2</td>\n",
       "      <td>685</td>\n",
       "      <td>1000</td>\n",
       "      <td>42.302569</td>\n",
       "      <td>-83.704196</td>\n",
       "      <td>30.0</td>\n",
       "    </tr>\n",
       "    <tr>\n",
       "      <th>10495646</th>\n",
       "      <td>9.558109</td>\n",
       "      <td>2</td>\n",
       "      <td>685</td>\n",
       "      <td>2500</td>\n",
       "      <td>42.302569</td>\n",
       "      <td>-83.704196</td>\n",
       "      <td>33.0</td>\n",
       "    </tr>\n",
       "    <tr>\n",
       "      <th>10495647</th>\n",
       "      <td>9.558109</td>\n",
       "      <td>2</td>\n",
       "      <td>685</td>\n",
       "      <td>2900</td>\n",
       "      <td>42.302580</td>\n",
       "      <td>-83.704604</td>\n",
       "      <td>33.0</td>\n",
       "    </tr>\n",
       "    <tr>\n",
       "      <th>10495648</th>\n",
       "      <td>9.558109</td>\n",
       "      <td>2</td>\n",
       "      <td>685</td>\n",
       "      <td>3900</td>\n",
       "      <td>42.302580</td>\n",
       "      <td>-83.704604</td>\n",
       "      <td>38.0</td>\n",
       "    </tr>\n",
       "    <tr>\n",
       "      <th>10495649</th>\n",
       "      <td>9.558109</td>\n",
       "      <td>2</td>\n",
       "      <td>685</td>\n",
       "      <td>4900</td>\n",
       "      <td>42.302580</td>\n",
       "      <td>-83.704604</td>\n",
       "      <td>39.0</td>\n",
       "    </tr>\n",
       "    <tr>\n",
       "      <th>10495650</th>\n",
       "      <td>9.558109</td>\n",
       "      <td>2</td>\n",
       "      <td>685</td>\n",
       "      <td>5900</td>\n",
       "      <td>42.302580</td>\n",
       "      <td>-83.704604</td>\n",
       "      <td>38.0</td>\n",
       "    </tr>\n",
       "    <tr>\n",
       "      <th>10495651</th>\n",
       "      <td>9.558109</td>\n",
       "      <td>2</td>\n",
       "      <td>685</td>\n",
       "      <td>7000</td>\n",
       "      <td>42.302558</td>\n",
       "      <td>-83.705129</td>\n",
       "      <td>37.0</td>\n",
       "    </tr>\n",
       "    <tr>\n",
       "      <th>10495652</th>\n",
       "      <td>9.558109</td>\n",
       "      <td>2</td>\n",
       "      <td>685</td>\n",
       "      <td>8000</td>\n",
       "      <td>42.302558</td>\n",
       "      <td>-83.705129</td>\n",
       "      <td>37.0</td>\n",
       "    </tr>\n",
       "  </tbody>\n",
       "</table>\n",
       "</div>"
      ],
      "text/plain": [
       "            DayNum  VehId  Trip  Timestamp(ms)  Latitude[deg]  Longitude[deg]  \\\n",
       "10495643  9.558109      2   685              0      42.302569      -83.704196   \n",
       "10495644  9.558109      2   685            700      42.302569      -83.704196   \n",
       "10495645  9.558109      2   685           1000      42.302569      -83.704196   \n",
       "10495646  9.558109      2   685           2500      42.302569      -83.704196   \n",
       "10495647  9.558109      2   685           2900      42.302580      -83.704604   \n",
       "10495648  9.558109      2   685           3900      42.302580      -83.704604   \n",
       "10495649  9.558109      2   685           4900      42.302580      -83.704604   \n",
       "10495650  9.558109      2   685           5900      42.302580      -83.704604   \n",
       "10495651  9.558109      2   685           7000      42.302558      -83.705129   \n",
       "10495652  9.558109      2   685           8000      42.302558      -83.705129   \n",
       "\n",
       "          Vehicle Speed[km/h]  \n",
       "10495643                 27.0  \n",
       "10495644                 27.0  \n",
       "10495645                 30.0  \n",
       "10495646                 33.0  \n",
       "10495647                 33.0  \n",
       "10495648                 38.0  \n",
       "10495649                 39.0  \n",
       "10495650                 38.0  \n",
       "10495651                 37.0  \n",
       "10495652                 37.0  "
      ]
     },
     "execution_count": 8,
     "metadata": {},
     "output_type": "execute_result"
    }
   ],
   "source": [
    "df.head(10)"
   ]
  },
  {
   "cell_type": "code",
   "execution_count": 9,
   "metadata": {},
   "outputs": [
    {
     "data": {
      "text/plain": [
       "(2574213, 7)"
      ]
     },
     "execution_count": 9,
     "metadata": {},
     "output_type": "execute_result"
    }
   ],
   "source": [
    "df[df['Vehicle Speed[km/h]'] == 0].shape"
   ]
  },
  {
   "cell_type": "code",
   "execution_count": null,
   "metadata": {},
   "outputs": [],
   "source": []
  },
  {
   "cell_type": "markdown",
   "metadata": {},
   "source": [
    "### The Trip DataFrame\n",
    "The `DayNum` and `VehId` column values uniquely identify individual trips. This means that we can retrieve the data for each trip by grouping by both columns and sorting by the timestamp. The result represents the trip trajectory and it is the source of data for an individual observation for the trajectory clustering process."
   ]
  },
  {
   "cell_type": "code",
   "execution_count": 10,
   "metadata": {},
   "outputs": [],
   "source": [
    "trip_df = df.groupby(by=['DayNum', 'VehId']).size().reset_index().rename(columns={0:'Count'})"
   ]
  },
  {
   "cell_type": "code",
   "execution_count": 11,
   "metadata": {},
   "outputs": [],
   "source": [
    "trip_df['NodeIni'] = -1\n",
    "trip_df['NodeEnd'] = -1"
   ]
  },
  {
   "cell_type": "markdown",
   "metadata": {},
   "source": [
    "Here's how the `trip_df` table looks right now."
   ]
  },
  {
   "cell_type": "code",
   "execution_count": 12,
   "metadata": {},
   "outputs": [
    {
     "data": {
      "text/html": [
       "<div>\n",
       "<style scoped>\n",
       "    .dataframe tbody tr th:only-of-type {\n",
       "        vertical-align: middle;\n",
       "    }\n",
       "\n",
       "    .dataframe tbody tr th {\n",
       "        vertical-align: top;\n",
       "    }\n",
       "\n",
       "    .dataframe thead th {\n",
       "        text-align: right;\n",
       "    }\n",
       "</style>\n",
       "<table border=\"1\" class=\"dataframe\">\n",
       "  <thead>\n",
       "    <tr style=\"text-align: right;\">\n",
       "      <th></th>\n",
       "      <th>DayNum</th>\n",
       "      <th>VehId</th>\n",
       "      <th>Count</th>\n",
       "      <th>NodeIni</th>\n",
       "      <th>NodeEnd</th>\n",
       "    </tr>\n",
       "  </thead>\n",
       "  <tbody>\n",
       "    <tr>\n",
       "      <th>0</th>\n",
       "      <td>1.002938</td>\n",
       "      <td>550</td>\n",
       "      <td>131</td>\n",
       "      <td>-1</td>\n",
       "      <td>-1</td>\n",
       "    </tr>\n",
       "    <tr>\n",
       "      <th>1</th>\n",
       "      <td>1.015493</td>\n",
       "      <td>540</td>\n",
       "      <td>545</td>\n",
       "      <td>-1</td>\n",
       "      <td>-1</td>\n",
       "    </tr>\n",
       "    <tr>\n",
       "      <th>2</th>\n",
       "      <td>1.017633</td>\n",
       "      <td>156</td>\n",
       "      <td>690</td>\n",
       "      <td>-1</td>\n",
       "      <td>-1</td>\n",
       "    </tr>\n",
       "    <tr>\n",
       "      <th>3</th>\n",
       "      <td>1.025782</td>\n",
       "      <td>588</td>\n",
       "      <td>1150</td>\n",
       "      <td>-1</td>\n",
       "      <td>-1</td>\n",
       "    </tr>\n",
       "    <tr>\n",
       "      <th>4</th>\n",
       "      <td>1.054483</td>\n",
       "      <td>267</td>\n",
       "      <td>495</td>\n",
       "      <td>-1</td>\n",
       "      <td>-1</td>\n",
       "    </tr>\n",
       "    <tr>\n",
       "      <th>5</th>\n",
       "      <td>1.058991</td>\n",
       "      <td>11</td>\n",
       "      <td>396</td>\n",
       "      <td>-1</td>\n",
       "      <td>-1</td>\n",
       "    </tr>\n",
       "    <tr>\n",
       "      <th>6</th>\n",
       "      <td>1.062756</td>\n",
       "      <td>130</td>\n",
       "      <td>452</td>\n",
       "      <td>-1</td>\n",
       "      <td>-1</td>\n",
       "    </tr>\n",
       "    <tr>\n",
       "      <th>7</th>\n",
       "      <td>1.065486</td>\n",
       "      <td>174</td>\n",
       "      <td>273</td>\n",
       "      <td>-1</td>\n",
       "      <td>-1</td>\n",
       "    </tr>\n",
       "    <tr>\n",
       "      <th>8</th>\n",
       "      <td>1.082547</td>\n",
       "      <td>374</td>\n",
       "      <td>471</td>\n",
       "      <td>-1</td>\n",
       "      <td>-1</td>\n",
       "    </tr>\n",
       "    <tr>\n",
       "      <th>9</th>\n",
       "      <td>1.101627</td>\n",
       "      <td>156</td>\n",
       "      <td>697</td>\n",
       "      <td>-1</td>\n",
       "      <td>-1</td>\n",
       "    </tr>\n",
       "  </tbody>\n",
       "</table>\n",
       "</div>"
      ],
      "text/plain": [
       "     DayNum  VehId  Count  NodeIni  NodeEnd\n",
       "0  1.002938    550    131       -1       -1\n",
       "1  1.015493    540    545       -1       -1\n",
       "2  1.017633    156    690       -1       -1\n",
       "3  1.025782    588   1150       -1       -1\n",
       "4  1.054483    267    495       -1       -1\n",
       "5  1.058991     11    396       -1       -1\n",
       "6  1.062756    130    452       -1       -1\n",
       "7  1.065486    174    273       -1       -1\n",
       "8  1.082547    374    471       -1       -1\n",
       "9  1.101627    156    697       -1       -1"
      ]
     },
     "execution_count": 12,
     "metadata": {},
     "output_type": "execute_result"
    }
   ],
   "source": [
    "trip_df.head(10)"
   ]
  },
  {
   "cell_type": "markdown",
   "metadata": {},
   "source": [
    "Each row contains a single trip, but still misses the endpoint node identifiers (`NodeIni` and `NodeEnd`). We are now going to fill in those values so that we can map from any pair of endpoint nodes to the underlying set of trajectories."
   ]
  },
  {
   "cell_type": "code",
   "execution_count": 13,
   "metadata": {},
   "outputs": [],
   "source": [
    "def get_trip_ini(row):\n",
    "    traj = ends_df[(ends_df.DayNum == row.DayNum) & (ends_df.VehId == row.VehId)].head(n=1)\n",
    "    return traj.end_id.values[0]\n",
    "\n",
    "def get_trip_end(row):\n",
    "    traj = ends_df[(ends_df.DayNum == row.DayNum) & (ends_df.VehId == row.VehId)].tail(n=1)\n",
    "    return traj.end_id.values[0]"
   ]
  },
  {
   "cell_type": "code",
   "execution_count": null,
   "metadata": {},
   "outputs": [],
   "source": []
  },
  {
   "cell_type": "code",
   "execution_count": null,
   "metadata": {},
   "outputs": [],
   "source": []
  },
  {
   "cell_type": "code",
   "execution_count": null,
   "metadata": {},
   "outputs": [],
   "source": []
  },
  {
   "cell_type": "markdown",
   "metadata": {},
   "source": [
    "## Calculate the Endpoints DataFrame\n",
    "\n",
    "We start by grouping the data by `DayNum` and `VehId`, thereby identifying unique trajectories."
   ]
  },
  {
   "cell_type": "code",
   "execution_count": 14,
   "metadata": {},
   "outputs": [],
   "source": [
    "grp = df.groupby(by=['DayNum', 'VehId'])"
   ]
  },
  {
   "cell_type": "markdown",
   "metadata": {},
   "source": [
    "Now, we create the endpoints DataFrame, iterating the `get_ends` function through all the grouped data. Each call to the function takes on trip of data."
   ]
  },
  {
   "cell_type": "code",
   "execution_count": 15,
   "metadata": {},
   "outputs": [],
   "source": [
    "ends_df = pd.concat([get_ends(d) for k, d in grp])"
   ]
  },
  {
   "cell_type": "markdown",
   "metadata": {},
   "source": [
    "With all the endpoints identified, we now run the clustering algorithm and store the resulting cluster identifiers in the `end_id` column."
   ]
  },
  {
   "cell_type": "code",
   "execution_count": 16,
   "metadata": {},
   "outputs": [],
   "source": [
    "ends_df = cluster_ends(ends_df)"
   ]
  },
  {
   "cell_type": "markdown",
   "metadata": {},
   "source": [
    "Let's have a look at the data. As you can see, each trip is represented by consecutive row pairs. This arrangement makes it very easy to later group all endpoint cluster identifiers into a list of pairs."
   ]
  },
  {
   "cell_type": "code",
   "execution_count": 17,
   "metadata": {},
   "outputs": [
    {
     "data": {
      "text/html": [
       "<div>\n",
       "<style scoped>\n",
       "    .dataframe tbody tr th:only-of-type {\n",
       "        vertical-align: middle;\n",
       "    }\n",
       "\n",
       "    .dataframe tbody tr th {\n",
       "        vertical-align: top;\n",
       "    }\n",
       "\n",
       "    .dataframe thead th {\n",
       "        text-align: right;\n",
       "    }\n",
       "</style>\n",
       "<table border=\"1\" class=\"dataframe\">\n",
       "  <thead>\n",
       "    <tr style=\"text-align: right;\">\n",
       "      <th></th>\n",
       "      <th>DayNum</th>\n",
       "      <th>VehId</th>\n",
       "      <th>Trip</th>\n",
       "      <th>Timestamp(ms)</th>\n",
       "      <th>Latitude[deg]</th>\n",
       "      <th>Longitude[deg]</th>\n",
       "      <th>Vehicle Speed[km/h]</th>\n",
       "      <th>end_id</th>\n",
       "    </tr>\n",
       "  </thead>\n",
       "  <tbody>\n",
       "    <tr>\n",
       "      <th>18319338</th>\n",
       "      <td>1.002938</td>\n",
       "      <td>550</td>\n",
       "      <td>413</td>\n",
       "      <td>0</td>\n",
       "      <td>42.291749</td>\n",
       "      <td>-83.682617</td>\n",
       "      <td>13.421875</td>\n",
       "      <td>0</td>\n",
       "    </tr>\n",
       "    <tr>\n",
       "      <th>18319468</th>\n",
       "      <td>1.002938</td>\n",
       "      <td>550</td>\n",
       "      <td>413</td>\n",
       "      <td>95300</td>\n",
       "      <td>42.309110</td>\n",
       "      <td>-83.677268</td>\n",
       "      <td>27.218750</td>\n",
       "      <td>1</td>\n",
       "    </tr>\n",
       "    <tr>\n",
       "      <th>18315381</th>\n",
       "      <td>1.015493</td>\n",
       "      <td>540</td>\n",
       "      <td>483</td>\n",
       "      <td>0</td>\n",
       "      <td>42.291189</td>\n",
       "      <td>-83.799998</td>\n",
       "      <td>19.000000</td>\n",
       "      <td>2</td>\n",
       "    </tr>\n",
       "    <tr>\n",
       "      <th>18315925</th>\n",
       "      <td>1.015493</td>\n",
       "      <td>540</td>\n",
       "      <td>483</td>\n",
       "      <td>478700</td>\n",
       "      <td>42.281186</td>\n",
       "      <td>-83.747657</td>\n",
       "      <td>17.000000</td>\n",
       "      <td>3</td>\n",
       "    </tr>\n",
       "    <tr>\n",
       "      <th>18258980</th>\n",
       "      <td>1.017633</td>\n",
       "      <td>156</td>\n",
       "      <td>912</td>\n",
       "      <td>0</td>\n",
       "      <td>42.309303</td>\n",
       "      <td>-83.677652</td>\n",
       "      <td>9.000000</td>\n",
       "      <td>1</td>\n",
       "    </tr>\n",
       "    <tr>\n",
       "      <th>18259669</th>\n",
       "      <td>1.017633</td>\n",
       "      <td>156</td>\n",
       "      <td>912</td>\n",
       "      <td>597300</td>\n",
       "      <td>42.286800</td>\n",
       "      <td>-83.780572</td>\n",
       "      <td>58.000000</td>\n",
       "      <td>-1</td>\n",
       "    </tr>\n",
       "    <tr>\n",
       "      <th>18323652</th>\n",
       "      <td>1.025782</td>\n",
       "      <td>588</td>\n",
       "      <td>73</td>\n",
       "      <td>0</td>\n",
       "      <td>42.309431</td>\n",
       "      <td>-83.677319</td>\n",
       "      <td>0.000000</td>\n",
       "      <td>1</td>\n",
       "    </tr>\n",
       "    <tr>\n",
       "      <th>18324801</th>\n",
       "      <td>1.025782</td>\n",
       "      <td>588</td>\n",
       "      <td>73</td>\n",
       "      <td>1033500</td>\n",
       "      <td>42.244419</td>\n",
       "      <td>-83.764921</td>\n",
       "      <td>16.000000</td>\n",
       "      <td>4</td>\n",
       "    </tr>\n",
       "    <tr>\n",
       "      <th>18280024</th>\n",
       "      <td>1.054483</td>\n",
       "      <td>267</td>\n",
       "      <td>647</td>\n",
       "      <td>0</td>\n",
       "      <td>42.289890</td>\n",
       "      <td>-83.737930</td>\n",
       "      <td>35.000000</td>\n",
       "      <td>5</td>\n",
       "    </tr>\n",
       "    <tr>\n",
       "      <th>18280518</th>\n",
       "      <td>1.054483</td>\n",
       "      <td>267</td>\n",
       "      <td>647</td>\n",
       "      <td>469700</td>\n",
       "      <td>42.308822</td>\n",
       "      <td>-83.678517</td>\n",
       "      <td>73.000000</td>\n",
       "      <td>1</td>\n",
       "    </tr>\n",
       "  </tbody>\n",
       "</table>\n",
       "</div>"
      ],
      "text/plain": [
       "            DayNum  VehId  Trip  Timestamp(ms)  Latitude[deg]  Longitude[deg]  \\\n",
       "18319338  1.002938    550   413              0      42.291749      -83.682617   \n",
       "18319468  1.002938    550   413          95300      42.309110      -83.677268   \n",
       "18315381  1.015493    540   483              0      42.291189      -83.799998   \n",
       "18315925  1.015493    540   483         478700      42.281186      -83.747657   \n",
       "18258980  1.017633    156   912              0      42.309303      -83.677652   \n",
       "18259669  1.017633    156   912         597300      42.286800      -83.780572   \n",
       "18323652  1.025782    588    73              0      42.309431      -83.677319   \n",
       "18324801  1.025782    588    73        1033500      42.244419      -83.764921   \n",
       "18280024  1.054483    267   647              0      42.289890      -83.737930   \n",
       "18280518  1.054483    267   647         469700      42.308822      -83.678517   \n",
       "\n",
       "          Vehicle Speed[km/h]  end_id  \n",
       "18319338            13.421875       0  \n",
       "18319468            27.218750       1  \n",
       "18315381            19.000000       2  \n",
       "18315925            17.000000       3  \n",
       "18258980             9.000000       1  \n",
       "18259669            58.000000      -1  \n",
       "18323652             0.000000       1  \n",
       "18324801            16.000000       4  \n",
       "18280024            35.000000       5  \n",
       "18280518            73.000000       1  "
      ]
     },
     "execution_count": 17,
     "metadata": {},
     "output_type": "execute_result"
    }
   ],
   "source": [
    "ends_df.head(10)"
   ]
  },
  {
   "cell_type": "markdown",
   "metadata": {},
   "source": [
    "Now, we fill in the identifiers into the appropriate columns in the trip DataFrame."
   ]
  },
  {
   "cell_type": "code",
   "execution_count": 18,
   "metadata": {},
   "outputs": [],
   "source": [
    "trip_df['NodeIni'] = trip_df.apply(get_trip_ini, axis=1)\n",
    "trip_df['NodeEnd'] = trip_df.apply(get_trip_end, axis=1)"
   ]
  },
  {
   "cell_type": "code",
   "execution_count": 19,
   "metadata": {},
   "outputs": [
    {
     "data": {
      "text/html": [
       "<div>\n",
       "<style scoped>\n",
       "    .dataframe tbody tr th:only-of-type {\n",
       "        vertical-align: middle;\n",
       "    }\n",
       "\n",
       "    .dataframe tbody tr th {\n",
       "        vertical-align: top;\n",
       "    }\n",
       "\n",
       "    .dataframe thead th {\n",
       "        text-align: right;\n",
       "    }\n",
       "</style>\n",
       "<table border=\"1\" class=\"dataframe\">\n",
       "  <thead>\n",
       "    <tr style=\"text-align: right;\">\n",
       "      <th></th>\n",
       "      <th>DayNum</th>\n",
       "      <th>VehId</th>\n",
       "      <th>Count</th>\n",
       "      <th>NodeIni</th>\n",
       "      <th>NodeEnd</th>\n",
       "    </tr>\n",
       "  </thead>\n",
       "  <tbody>\n",
       "    <tr>\n",
       "      <th>0</th>\n",
       "      <td>1.002938</td>\n",
       "      <td>550</td>\n",
       "      <td>131</td>\n",
       "      <td>0</td>\n",
       "      <td>1</td>\n",
       "    </tr>\n",
       "    <tr>\n",
       "      <th>1</th>\n",
       "      <td>1.015493</td>\n",
       "      <td>540</td>\n",
       "      <td>545</td>\n",
       "      <td>2</td>\n",
       "      <td>3</td>\n",
       "    </tr>\n",
       "    <tr>\n",
       "      <th>2</th>\n",
       "      <td>1.017633</td>\n",
       "      <td>156</td>\n",
       "      <td>690</td>\n",
       "      <td>1</td>\n",
       "      <td>-1</td>\n",
       "    </tr>\n",
       "    <tr>\n",
       "      <th>3</th>\n",
       "      <td>1.025782</td>\n",
       "      <td>588</td>\n",
       "      <td>1150</td>\n",
       "      <td>1</td>\n",
       "      <td>4</td>\n",
       "    </tr>\n",
       "    <tr>\n",
       "      <th>4</th>\n",
       "      <td>1.054483</td>\n",
       "      <td>267</td>\n",
       "      <td>495</td>\n",
       "      <td>5</td>\n",
       "      <td>1</td>\n",
       "    </tr>\n",
       "    <tr>\n",
       "      <th>5</th>\n",
       "      <td>1.058991</td>\n",
       "      <td>11</td>\n",
       "      <td>396</td>\n",
       "      <td>6</td>\n",
       "      <td>7</td>\n",
       "    </tr>\n",
       "    <tr>\n",
       "      <th>6</th>\n",
       "      <td>1.062756</td>\n",
       "      <td>130</td>\n",
       "      <td>452</td>\n",
       "      <td>8</td>\n",
       "      <td>9</td>\n",
       "    </tr>\n",
       "    <tr>\n",
       "      <th>7</th>\n",
       "      <td>1.065486</td>\n",
       "      <td>174</td>\n",
       "      <td>273</td>\n",
       "      <td>10</td>\n",
       "      <td>11</td>\n",
       "    </tr>\n",
       "    <tr>\n",
       "      <th>8</th>\n",
       "      <td>1.082547</td>\n",
       "      <td>374</td>\n",
       "      <td>471</td>\n",
       "      <td>12</td>\n",
       "      <td>3</td>\n",
       "    </tr>\n",
       "    <tr>\n",
       "      <th>9</th>\n",
       "      <td>1.101627</td>\n",
       "      <td>156</td>\n",
       "      <td>697</td>\n",
       "      <td>13</td>\n",
       "      <td>14</td>\n",
       "    </tr>\n",
       "  </tbody>\n",
       "</table>\n",
       "</div>"
      ],
      "text/plain": [
       "     DayNum  VehId  Count  NodeIni  NodeEnd\n",
       "0  1.002938    550    131        0        1\n",
       "1  1.015493    540    545        2        3\n",
       "2  1.017633    156    690        1       -1\n",
       "3  1.025782    588   1150        1        4\n",
       "4  1.054483    267    495        5        1\n",
       "5  1.058991     11    396        6        7\n",
       "6  1.062756    130    452        8        9\n",
       "7  1.065486    174    273       10       11\n",
       "8  1.082547    374    471       12        3\n",
       "9  1.101627    156    697       13       14"
      ]
     },
     "execution_count": 19,
     "metadata": {},
     "output_type": "execute_result"
    }
   ],
   "source": [
    "trip_df.head(10)"
   ]
  },
  {
   "cell_type": "code",
   "execution_count": null,
   "metadata": {},
   "outputs": [],
   "source": []
  },
  {
   "cell_type": "code",
   "execution_count": 20,
   "metadata": {},
   "outputs": [],
   "source": [
    "df0 = ends_df[ends_df.end_id == 5]"
   ]
  },
  {
   "cell_type": "code",
   "execution_count": 21,
   "metadata": {},
   "outputs": [],
   "source": [
    "s = df0['Latitude[deg]'].min()\n",
    "n = df0['Latitude[deg]'].max()\n",
    "w = df0['Longitude[deg]'].min()\n",
    "e = df0['Longitude[deg]'].max()"
   ]
  },
  {
   "cell_type": "code",
   "execution_count": 22,
   "metadata": {},
   "outputs": [
    {
     "data": {
      "text/plain": [
       "(42.2892022222, -83.7408405556, 42.2912408333, -83.7378394444)"
      ]
     },
     "execution_count": 22,
     "metadata": {},
     "output_type": "execute_result"
    }
   ],
   "source": [
    "(s, w, n, e)"
   ]
  },
  {
   "cell_type": "code",
   "execution_count": 23,
   "metadata": {},
   "outputs": [],
   "source": [
    "import requests\n",
    "import json"
   ]
  },
  {
   "cell_type": "code",
   "execution_count": 24,
   "metadata": {},
   "outputs": [],
   "source": [
    "overpass_url = \"http://overpass-api.de/api/interpreter\""
   ]
  },
  {
   "cell_type": "code",
   "execution_count": 25,
   "metadata": {},
   "outputs": [],
   "source": [
    "overpass_query = \"[out:json];(way[highway]({0},{1},{2},{3}););(._;>;);out body;\".format(s, w, n, e)"
   ]
  },
  {
   "cell_type": "code",
   "execution_count": 26,
   "metadata": {},
   "outputs": [
    {
     "data": {
      "text/plain": [
       "'[out:json];(way[highway](42.2892022222,-83.7408405556,42.2912408333,-83.7378394444););(._;>;);out body;'"
      ]
     },
     "execution_count": 26,
     "metadata": {},
     "output_type": "execute_result"
    }
   ],
   "source": [
    "overpass_query"
   ]
  },
  {
   "cell_type": "code",
   "execution_count": 27,
   "metadata": {},
   "outputs": [],
   "source": [
    "response = requests.get(overpass_url, params={'data': overpass_query})\n",
    "data = response.json()"
   ]
  },
  {
   "cell_type": "code",
   "execution_count": 28,
   "metadata": {},
   "outputs": [
    {
     "data": {
      "text/plain": [
       "['version', 'generator', 'osm3s', 'elements']"
      ]
     },
     "execution_count": 28,
     "metadata": {},
     "output_type": "execute_result"
    }
   ],
   "source": [
    "list(data.keys())"
   ]
  },
  {
   "cell_type": "code",
   "execution_count": 29,
   "metadata": {},
   "outputs": [],
   "source": [
    "# data['elements']"
   ]
  },
  {
   "cell_type": "code",
   "execution_count": 30,
   "metadata": {},
   "outputs": [],
   "source": [
    "from osm.models import OSMNode, OSMWay"
   ]
  },
  {
   "cell_type": "code",
   "execution_count": null,
   "metadata": {},
   "outputs": [],
   "source": []
  },
  {
   "cell_type": "code",
   "execution_count": 31,
   "metadata": {},
   "outputs": [],
   "source": [
    "nodes = [OSMNode(n['id'], n['lat'], n['lon']) for n in data['elements'] if n['type'] == 'node']"
   ]
  },
  {
   "cell_type": "code",
   "execution_count": 32,
   "metadata": {},
   "outputs": [],
   "source": [
    "ways = [OSMWay(w['id'], w['nodes'], w['tags']) for w in data['elements'] if w['type'] == 'way']"
   ]
  },
  {
   "cell_type": "code",
   "execution_count": 33,
   "metadata": {},
   "outputs": [
    {
     "data": {
      "text/plain": [
       "[OSMNode(nid=62486495, lat=42.2902074, lon=-83.7409516,\n",
       " OSMNode(nid=62486497, lat=42.2903016, lon=-83.7409793,\n",
       " OSMNode(nid=62486499, lat=42.2903844, lon=-83.7409465,\n",
       " OSMNode(nid=62486501, lat=42.2909053, lon=-83.7407497,\n",
       " OSMNode(nid=62486503, lat=42.2911184, lon=-83.7406634,\n",
       " OSMNode(nid=62486505, lat=42.2930011, lon=-83.739937,\n",
       " OSMNode(nid=62486507, lat=42.2940514, lon=-83.7395408,\n",
       " OSMNode(nid=62490557, lat=42.2973528, lon=-83.736998,\n",
       " OSMNode(nid=62494758, lat=42.2899286, lon=-83.7405761,\n",
       " OSMNode(nid=62494762, lat=42.28903, lon=-83.7395313,\n",
       " OSMNode(nid=62499610, lat=42.2893576, lon=-83.7388934,\n",
       " OSMNode(nid=62499611, lat=42.2891316, lon=-83.7383457,\n",
       " OSMNode(nid=62501564, lat=42.2895035, lon=-83.7386314,\n",
       " OSMNode(nid=62501566, lat=42.2895997, lon=-83.7385239,\n",
       " OSMNode(nid=62501568, lat=42.2896973, lon=-83.7384449,\n",
       " OSMNode(nid=62501571, lat=42.2898006, lon=-83.7383804,\n",
       " OSMNode(nid=62501582, lat=42.2903049, lon=-83.7372716,\n",
       " OSMNode(nid=62501598, lat=42.2906971, lon=-83.7378573,\n",
       " OSMNode(nid=62501600, lat=42.2904827, lon=-83.7375792,\n",
       " OSMNode(nid=62506342, lat=42.2927635, lon=-83.7387627,\n",
       " OSMNode(nid=62518520, lat=42.2920535, lon=-83.7377169,\n",
       " OSMNode(nid=62518525, lat=42.2911692, lon=-83.7393691,\n",
       " OSMNode(nid=62518529, lat=42.2909951, lon=-83.7400713,\n",
       " OSMNode(nid=62522519, lat=42.2918966, lon=-83.7390848,\n",
       " OSMNode(nid=62522521, lat=42.2916926, lon=-83.7378341,\n",
       " OSMNode(nid=62524566, lat=42.2963155, lon=-83.7373967,\n",
       " OSMNode(nid=62535154, lat=42.2901971, lon=-83.7384947,\n",
       " OSMNode(nid=62535157, lat=42.2902673, lon=-83.7384135,\n",
       " OSMNode(nid=62535159, lat=42.2904036, lon=-83.7383334,\n",
       " OSMNode(nid=62535161, lat=42.2905482, lon=-83.7382707,\n",
       " OSMNode(nid=62535164, lat=42.2909564, lon=-83.7381006,\n",
       " OSMNode(nid=62535166, lat=42.2913925, lon=-83.7379392,\n",
       " OSMNode(nid=62535170, lat=42.29248, lon=-83.7375711,\n",
       " OSMNode(nid=62535172, lat=42.2927759, lon=-83.7374741,\n",
       " OSMNode(nid=62535173, lat=42.2930128, lon=-83.7373477,\n",
       " OSMNode(nid=62535174, lat=42.2934815, lon=-83.7368694,\n",
       " OSMNode(nid=62535175, lat=42.2940827, lon=-83.7362541,\n",
       " OSMNode(nid=62535176, lat=42.295406, lon=-83.7348885,\n",
       " OSMNode(nid=62539152, lat=42.2968636, lon=-83.7371825,\n",
       " OSMNode(nid=62546404, lat=42.290889, lon=-83.7394736,\n",
       " OSMNode(nid=62551847, lat=42.2896529, lon=-83.7381032,\n",
       " OSMNode(nid=62553291, lat=42.29789, lon=-83.7367594,\n",
       " OSMNode(nid=62578927, lat=42.2951646, lon=-83.7378235,\n",
       " OSMNode(nid=62619712, lat=42.290076, lon=-83.7397572,\n",
       " OSMNode(nid=62619714, lat=42.2903982, lon=-83.7396276,\n",
       " OSMNode(nid=62619718, lat=42.2954693, lon=-83.7377194,\n",
       " OSMNode(nid=62621061, lat=42.2918211, lon=-83.743855,\n",
       " OSMNode(nid=62621063, lat=42.2919139, lon=-83.7439509,\n",
       " OSMNode(nid=62621065, lat=42.2919577, lon=-83.7439452,\n",
       " OSMNode(nid=62621073, lat=42.2927834, lon=-83.7436207,\n",
       " OSMNode(nid=303965396, lat=42.289299, lon=-83.7404798,\n",
       " OSMNode(nid=303966228, lat=42.2888109, lon=-83.740267,\n",
       " OSMNode(nid=305090162, lat=42.289003, lon=-83.7404298,\n",
       " OSMNode(nid=305608704, lat=42.2923124, lon=-83.7438082,\n",
       " OSMNode(nid=767528506, lat=42.2903368, lon=-83.7380871,\n",
       " OSMNode(nid=767528508, lat=42.2905851, lon=-83.7379483,\n",
       " OSMNode(nid=767544847, lat=42.289493, lon=-83.7399372,\n",
       " OSMNode(nid=767544849, lat=42.2900741, lon=-83.7386917,\n",
       " OSMNode(nid=1241482997, lat=42.2925747, lon=-83.7437088,\n",
       " OSMNode(nid=1729302233, lat=42.2891148, lon=-83.7404484,\n",
       " OSMNode(nid=1729302246, lat=42.2893393, lon=-83.7402982,\n",
       " OSMNode(nid=1729302251, lat=42.2894168, lon=-83.7398978,\n",
       " OSMNode(nid=1729302255, lat=42.2895312, lon=-83.7400651,\n",
       " OSMNode(nid=1729302258, lat=42.2895561, lon=-83.7399423,\n",
       " OSMNode(nid=1729302262, lat=42.2896288, lon=-83.7402234,\n",
       " OSMNode(nid=1729302264, lat=42.2896436, lon=-83.7399222,\n",
       " OSMNode(nid=2342114813, lat=42.290584, lon=-83.7377088,\n",
       " OSMNode(nid=2342114814, lat=42.2902184, lon=-83.7372972,\n",
       " OSMNode(nid=2342114817, lat=42.2898609, lon=-83.7379125,\n",
       " OSMNode(nid=2342114818, lat=42.290156, lon=-83.7373614,\n",
       " OSMNode(nid=3203337148, lat=42.2891046, lon=-83.736776,\n",
       " OSMNode(nid=3203337149, lat=42.2889598, lon=-83.7368765,\n",
       " OSMNode(nid=3203337150, lat=42.2892037, lon=-83.7375052,\n",
       " OSMNode(nid=3203337151, lat=42.2890608, lon=-83.7376005,\n",
       " OSMNode(nid=3203337152, lat=42.2892133, lon=-83.7380102,\n",
       " OSMNode(nid=3218302344, lat=42.2940127, lon=-83.7395554,\n",
       " OSMNode(nid=3888442225, lat=42.2886238, lon=-83.7401063,\n",
       " OSMNode(nid=4040351195, lat=42.2899057, lon=-83.7378287,\n",
       " OSMNode(nid=4040351202, lat=42.290095, lon=-83.7380083,\n",
       " OSMNode(nid=4136070258, lat=42.2907579, lon=-83.7395147,\n",
       " OSMNode(nid=4136070259, lat=42.2907731, lon=-83.7393562,\n",
       " OSMNode(nid=4145217935, lat=42.3000428, lon=-83.7359833,\n",
       " OSMNode(nid=4306748071, lat=42.2912549, lon=-83.7413028,\n",
       " OSMNode(nid=4353281075, lat=42.2894629, lon=-83.7401105,\n",
       " OSMNode(nid=4391894531, lat=42.2893616, lon=-83.7373981,\n",
       " OSMNode(nid=4391894532, lat=42.2894238, lon=-83.7408118,\n",
       " OSMNode(nid=4391894533, lat=42.2894695, lon=-83.7409051,\n",
       " OSMNode(nid=4391894535, lat=42.2902837, lon=-83.7381161,\n",
       " OSMNode(nid=4391894536, lat=42.2904318, lon=-83.7390318,\n",
       " OSMNode(nid=4393371207, lat=42.2904447, lon=-83.7375321,\n",
       " OSMNode(nid=4393371208, lat=42.2910246, lon=-83.7374891,\n",
       " OSMNode(nid=4553822169, lat=42.2918797, lon=-83.7439386,\n",
       " OSMNode(nid=4555402452, lat=42.2892243, lon=-83.7389342,\n",
       " OSMNode(nid=4555402662, lat=42.2872432, lon=-83.7339429,\n",
       " OSMNode(nid=4964930135, lat=42.2897537, lon=-83.7385259,\n",
       " OSMNode(nid=4964930136, lat=42.2900176, lon=-83.7387794,\n",
       " OSMNode(nid=4964930137, lat=42.2906957, lon=-83.739449,\n",
       " OSMNode(nid=4964930138, lat=42.2900638, lon=-83.7388377,\n",
       " OSMNode(nid=4964930139, lat=42.2897052, lon=-83.73844,\n",
       " OSMNode(nid=4964930140, lat=42.289649, lon=-83.7383404,\n",
       " OSMNode(nid=4964930146, lat=42.2898469, lon=-83.7384963,\n",
       " OSMNode(nid=4964930147, lat=42.289768, lon=-83.7385396,\n",
       " OSMNode(nid=4964930148, lat=42.2896641, lon=-83.7386357,\n",
       " OSMNode(nid=4964930149, lat=42.2891691, lon=-83.7395797,\n",
       " OSMNode(nid=4964930150, lat=42.2891384, lon=-83.739634,\n",
       " OSMNode(nid=4964930169, lat=42.2891867, lon=-83.739546,\n",
       " OSMNode(nid=4964930171, lat=42.2890821, lon=-83.7394299,\n",
       " OSMNode(nid=4964930173, lat=42.2890121, lon=-83.7393484,\n",
       " OSMNode(nid=4964930178, lat=42.2889187, lon=-83.7395186,\n",
       " OSMNode(nid=4964930187, lat=42.2891769, lon=-83.7395648,\n",
       " OSMNode(nid=4964930188, lat=42.289476, lon=-83.7398529,\n",
       " OSMNode(nid=4964930189, lat=42.2895545, lon=-83.7398893,\n",
       " OSMNode(nid=4964930195, lat=42.2902508, lon=-83.7396869,\n",
       " OSMNode(nid=4964930196, lat=42.2902394, lon=-83.7396251,\n",
       " OSMNode(nid=4964930197, lat=42.2902159, lon=-83.7395638,\n",
       " OSMNode(nid=4964930198, lat=42.2901884, lon=-83.7395337,\n",
       " OSMNode(nid=4964930199, lat=42.2901556, lon=-83.7395227,\n",
       " OSMNode(nid=4964930200, lat=42.2901197, lon=-83.7395354,\n",
       " OSMNode(nid=4964930208, lat=42.2893687, lon=-83.7398531,\n",
       " OSMNode(nid=4964930209, lat=42.2894023, lon=-83.7397823,\n",
       " OSMNode(nid=4964930210, lat=42.2894124, lon=-83.7397618,\n",
       " OSMNode(nid=4964930211, lat=42.289769, lon=-83.7390356,\n",
       " OSMNode(nid=4964930212, lat=42.289641, lon=-83.7392962,\n",
       " OSMNode(nid=4964930213, lat=42.2894376, lon=-83.7390918,\n",
       " OSMNode(nid=4964930214, lat=42.2894292, lon=-83.7390835,\n",
       " OSMNode(nid=4964930215, lat=42.2893173, lon=-83.7389718,\n",
       " OSMNode(nid=4964930216, lat=42.2902727, lon=-83.7396122,\n",
       " OSMNode(nid=4964930217, lat=42.2902564, lon=-83.7395535,\n",
       " OSMNode(nid=4964930218, lat=42.2902411, lon=-83.7395242,\n",
       " OSMNode(nid=4964930219, lat=42.2902212, lon=-83.7394989,\n",
       " OSMNode(nid=4964930220, lat=42.2901937, lon=-83.7394791,\n",
       " OSMNode(nid=4964930221, lat=42.2901685, lon=-83.7394712,\n",
       " OSMNode(nid=4964930222, lat=42.2901439, lon=-83.7394704,\n",
       " OSMNode(nid=4964930223, lat=42.2901152, lon=-83.739472,\n",
       " OSMNode(nid=4964930224, lat=42.2900847, lon=-83.7394522,\n",
       " OSMNode(nid=4964930225, lat=42.2898709, lon=-83.7392455,\n",
       " OSMNode(nid=4964930226, lat=42.2898685, lon=-83.7392091,\n",
       " OSMNode(nid=5105627552, lat=42.2960105, lon=-83.7342739,\n",
       " OSMNode(nid=5105627553, lat=42.2931148, lon=-83.7372498,\n",
       " OSMNode(nid=5105627554, lat=42.2929531, lon=-83.7373933,\n",
       " OSMNode(nid=5105627555, lat=42.2928886, lon=-83.7374282,\n",
       " OSMNode(nid=5105627556, lat=42.2911679, lon=-83.7380163,\n",
       " OSMNode(nid=5105627557, lat=42.2903306, lon=-83.7383737,\n",
       " OSMNode(nid=5105627558, lat=42.2901456, lon=-83.7385762,\n",
       " OSMNode(nid=5617652736, lat=42.2913018, lon=-83.7412451,\n",
       " OSMNode(nid=5617652737, lat=42.2911883, lon=-83.7407039,\n",
       " OSMNode(nid=5617652759, lat=42.2911055, lon=-83.7407835,\n",
       " OSMNode(nid=5617652760, lat=42.2903988, lon=-83.7410547,\n",
       " OSMNode(nid=5617652761, lat=42.2910611, lon=-83.7405798,\n",
       " OSMNode(nid=5617652762, lat=42.2902565, lon=-83.740888,\n",
       " OSMNode(nid=5617652763, lat=42.2895832, lon=-83.7400446,\n",
       " OSMNode(nid=5617652764, lat=42.2902495, lon=-83.7408832,\n",
       " OSMNode(nid=5617652765, lat=42.2909266, lon=-83.7408548,\n",
       " OSMNode(nid=5617652766, lat=42.290915, lon=-83.7408629,\n",
       " OSMNode(nid=5617652767, lat=42.2908851, lon=-83.7408611,\n",
       " OSMNode(nid=5617652768, lat=42.2908595, lon=-83.7408618,\n",
       " OSMNode(nid=5617652769, lat=42.2908013, lon=-83.7409379,\n",
       " OSMNode(nid=5617652770, lat=42.2906774, lon=-83.7409464,\n",
       " OSMNode(nid=5617652771, lat=42.2903412, lon=-83.7410781,\n",
       " OSMNode(nid=5617652772, lat=42.290293, lon=-83.741089,\n",
       " OSMNode(nid=5617652773, lat=42.2902414, lon=-83.7410727,\n",
       " OSMNode(nid=5617652774, lat=42.2901965, lon=-83.7410374,\n",
       " OSMNode(nid=5617652775, lat=42.2900665, lon=-83.7408761,\n",
       " OSMNode(nid=5617652776, lat=42.2895062, lon=-83.7401659,\n",
       " OSMNode(nid=5617652777, lat=42.2892, lon=-83.7397745,\n",
       " OSMNode(nid=5617652778, lat=42.2891236, lon=-83.7396957,\n",
       " OSMNode(nid=5617652779, lat=42.2891028, lon=-83.739695,\n",
       " OSMNode(nid=5617652780, lat=42.2892261, lon=-83.7389139,\n",
       " OSMNode(nid=5617652781, lat=42.2892254, lon=-83.738894,\n",
       " OSMNode(nid=5617652782, lat=42.2892201, lon=-83.7388732,\n",
       " OSMNode(nid=5617652783, lat=42.2892127, lon=-83.7388532,\n",
       " OSMNode(nid=5617652784, lat=42.2890525, lon=-83.7384601,\n",
       " OSMNode(nid=5617652785, lat=42.2890351, lon=-83.7384174,\n",
       " OSMNode(nid=5617652786, lat=42.2887684, lon=-83.7377499,\n",
       " OSMNode(nid=5617652787, lat=42.2887483, lon=-83.7376994,\n",
       " OSMNode(nid=5617652788, lat=42.2887134, lon=-83.7376176,\n",
       " OSMNode(nid=5617652789, lat=42.2886236, lon=-83.7373866,\n",
       " OSMNode(nid=5617652790, lat=42.2886136, lon=-83.7373431,\n",
       " OSMNode(nid=5617652791, lat=42.2884635, lon=-83.7369708,\n",
       " OSMNode(nid=5617652792, lat=42.2884166, lon=-83.7369418,\n",
       " OSMNode(nid=5617652793, lat=42.2884005, lon=-83.7369092,\n",
       " OSMNode(nid=5617652794, lat=42.2882752, lon=-83.7365912,\n",
       " OSMNode(nid=5617652795, lat=42.2882658, lon=-83.7365568,\n",
       " OSMNode(nid=5617652796, lat=42.2882644, lon=-83.7365233,\n",
       " OSMNode(nid=5617652797, lat=42.2882629, lon=-83.7364961,\n",
       " OSMNode(nid=5617652798, lat=42.2882138, lon=-83.7363645,\n",
       " OSMNode(nid=5617652799, lat=42.288113, lon=-83.7360966,\n",
       " OSMNode(nid=5617652800, lat=42.2880862, lon=-83.7360495,\n",
       " OSMNode(nid=5617652801, lat=42.2877592, lon=-83.7352333,\n",
       " OSMNode(nid=5617652802, lat=42.2877549, lon=-83.7352093,\n",
       " OSMNode(nid=5617652803, lat=42.2877424, lon=-83.7351717,\n",
       " OSMNode(nid=5617652804, lat=42.2876238, lon=-83.7348718,\n",
       " OSMNode(nid=5617652805, lat=42.2872525, lon=-83.733975,\n",
       " OSMNode(nid=5617652832, lat=42.289378, lon=-83.7407294,\n",
       " OSMNode(nid=5617652833, lat=42.2893442, lon=-83.7406403,\n",
       " OSMNode(nid=5617652834, lat=42.2893128, lon=-83.7405324,\n",
       " OSMNode(nid=5617652835, lat=42.2892388, lon=-83.7404678,\n",
       " OSMNode(nid=5617652836, lat=42.2893084, lon=-83.7403843,\n",
       " OSMNode(nid=5617652837, lat=42.2893205, lon=-83.740342,\n",
       " OSMNode(nid=5617652838, lat=42.2894324, lon=-83.7401608,\n",
       " OSMNode(nid=5617652839, lat=42.28936, lon=-83.7406857,\n",
       " OSMNode(nid=5617652840, lat=42.2893278, lon=-83.7405859,\n",
       " OSMNode(nid=5617652853, lat=42.2910405, lon=-83.7405872,\n",
       " OSMNode(nid=5617652854, lat=42.2910479, lon=-83.740627,\n",
       " OSMNode(nid=5617652855, lat=42.2910799, lon=-83.7407968,\n",
       " OSMNode(nid=5617652856, lat=42.2910701, lon=-83.7407512,\n",
       " OSMNode(nid=5617652857, lat=42.291059, lon=-83.7406917,\n",
       " OSMNode(nid=5617652858, lat=42.2902542, lon=-83.7409754,\n",
       " OSMNode(nid=5617652859, lat=42.2911249, lon=-83.7405506,\n",
       " OSMNode(nid=5617652860, lat=42.2911533, lon=-83.7405405,\n",
       " OSMNode(nid=5617652861, lat=42.2911634, lon=-83.7405849,\n",
       " OSMNode(nid=5617652862, lat=42.2909478, lon=-83.7395553,\n",
       " OSMNode(nid=5617652863, lat=42.2911741, lon=-83.7406333,\n",
       " OSMNode(nid=5617652864, lat=42.2910916, lon=-83.7405657,\n",
       " OSMNode(nid=5617652865, lat=42.2909038, lon=-83.7393614,\n",
       " OSMNode(nid=5617652866, lat=42.2901696, lon=-83.7386601,\n",
       " OSMNode(nid=5617652867, lat=42.2909261, lon=-83.7394594,\n",
       " OSMNode(nid=5617652868, lat=42.2909062, lon=-83.7393735,\n",
       " OSMNode(nid=5617652869, lat=42.2909544, lon=-83.7395773,\n",
       " OSMNode(nid=5698992545, lat=42.2881406, lon=-83.7361662,\n",
       " OSMNode(nid=5698992546, lat=42.2881773, lon=-83.736273,\n",
       " OSMNode(nid=6032966885, lat=42.2921345, lon=-83.7375866,\n",
       " OSMNode(nid=6032966886, lat=42.2910265, lon=-83.7379552,\n",
       " OSMNode(nid=6032966887, lat=42.2924179, lon=-83.7374912,\n",
       " OSMNode(nid=6032969626, lat=42.291218, lon=-83.739242,\n",
       " OSMNode(nid=6032969627, lat=42.2911342, lon=-83.7394974,\n",
       " OSMNode(nid=6032969628, lat=42.290969, lon=-83.7395592,\n",
       " OSMNode(nid=6032969629, lat=42.2914601, lon=-83.7393755,\n",
       " OSMNode(nid=6032969630, lat=42.2918262, lon=-83.7390134,\n",
       " OSMNode(nid=6033029136, lat=42.2911434, lon=-83.7407682,\n",
       " OSMNode(nid=6033029137, lat=42.2910841, lon=-83.7405248,\n",
       " OSMNode(nid=6033029138, lat=42.2911525, lon=-83.7408064,\n",
       " OSMNode(nid=6033029139, lat=42.2911792, lon=-83.7407538,\n",
       " OSMNode(nid=6033029140, lat=42.2911979, lon=-83.7407463,\n",
       " OSMNode(nid=6033029141, lat=42.291377, lon=-83.7406743,\n",
       " OSMNode(nid=6033029142, lat=42.2909158, lon=-83.740635,\n",
       " OSMNode(nid=6033029143, lat=42.2909002, lon=-83.740862,\n",
       " OSMNode(nid=6033029144, lat=42.2908608, lon=-83.7407666,\n",
       " OSMNode(nid=6033029145, lat=42.2909595, lon=-83.7407293,\n",
       " OSMNode(nid=6033029146, lat=42.2909095, lon=-83.739633,\n",
       " OSMNode(nid=6033029147, lat=42.2910156, lon=-83.7401852,\n",
       " OSMNode(nid=6033029148, lat=42.2909702, lon=-83.7399438,\n",
       " OSMNode(nid=6033149904, lat=42.2889475, lon=-83.7403936,\n",
       " OSMNode(nid=6033859793, lat=42.2899968, lon=-83.7384447,\n",
       " OSMNode(nid=6033859794, lat=42.2899809, lon=-83.7384045,\n",
       " OSMNode(nid=6033859795, lat=42.2901253, lon=-83.738609,\n",
       " OSMNode(nid=6033859796, lat=42.2900771, lon=-83.7385534,\n",
       " OSMNode(nid=6033859797, lat=42.2900533, lon=-83.7385172,\n",
       " OSMNode(nid=6033859798, lat=42.2901892, lon=-83.7383764,\n",
       " OSMNode(nid=6033859799, lat=42.2902954, lon=-83.7382892,\n",
       " OSMNode(nid=6033859800, lat=42.2909531, lon=-83.7380022,\n",
       " OSMNode(nid=6033867232, lat=42.2910264, lon=-83.7399259,\n",
       " OSMNode(nid=6034222604, lat=42.291846, lon=-83.7439097,\n",
       " OSMNode(nid=6801513649, lat=42.2936566, lon=-83.7366902,\n",
       " OSMNode(nid=6801513660, lat=42.2938745, lon=-83.7383281,\n",
       " OSMNode(nid=6802062706, lat=42.29057, lon=-83.7408764,\n",
       " OSMNode(nid=6802062707, lat=42.2905483, lon=-83.740776,\n",
       " OSMNode(nid=6802062708, lat=42.2903902, lon=-83.7401564,\n",
       " OSMNode(nid=6932249623, lat=42.2929504, lon=-83.7400652,\n",
       " OSMNode(nid=6932249624, lat=42.2929067, lon=-83.739864,\n",
       " OSMNode(nid=6932249625, lat=42.2929097, lon=-83.7373266,\n",
       " OSMNode(nid=6932249626, lat=42.2929692, lon=-83.7372998,\n",
       " OSMNode(nid=6932249627, lat=42.295604, lon=-83.7345693,\n",
       " OSMNode(nid=6932249628, lat=42.2960048, lon=-83.7341294]"
      ]
     },
     "execution_count": 33,
     "metadata": {},
     "output_type": "execute_result"
    }
   ],
   "source": [
    "nodes"
   ]
  },
  {
   "cell_type": "code",
   "execution_count": 34,
   "metadata": {},
   "outputs": [
    {
     "data": {
      "text/plain": [
       "[OSMWay(wid=8722317, name=Wright Street),\n",
       " OSMWay(wid=8723036, name=Swift Street),\n",
       " OSMWay(wid=8723579, name=Broadway Street),\n",
       " OSMWay(wid=8733979, name=Plymouth Road),\n",
       " OSMWay(wid=8734192, name=Pontiac Trail),\n",
       " OSMWay(wid=8734271, name=Long Shore Drive),\n",
       " OSMWay(wid=60923483),\n",
       " OSMWay(wid=61508808, name=Moore Street),\n",
       " OSMWay(wid=160964165, name=Swift Street),\n",
       " OSMWay(wid=222784526, name=Broadway Street),\n",
       " OSMWay(wid=222787431, name=Broadway Street),\n",
       " OSMWay(wid=225434709),\n",
       " OSMWay(wid=314284475),\n",
       " OSMWay(wid=401624615),\n",
       " OSMWay(wid=410015012, name=Maiden Lane),\n",
       " OSMWay(wid=410027434, name=Broadway Street),\n",
       " OSMWay(wid=410027435, name=Wall Street),\n",
       " OSMWay(wid=412071382),\n",
       " OSMWay(wid=413189666, name=Pontiac Trail),\n",
       " OSMWay(wid=437517025, name=Argo Dam B2B),\n",
       " OSMWay(wid=441448135, name=Argo Dam B2B),\n",
       " OSMWay(wid=441448139, name=Broadway Street),\n",
       " OSMWay(wid=441448162, name=Moore Street),\n",
       " OSMWay(wid=441448163, name=Moore Street),\n",
       " OSMWay(wid=441566047, name=Broadway Street),\n",
       " OSMWay(wid=482675556),\n",
       " OSMWay(wid=506841271),\n",
       " OSMWay(wid=506841272),\n",
       " OSMWay(wid=506841274),\n",
       " OSMWay(wid=506841288),\n",
       " OSMWay(wid=506841290),\n",
       " OSMWay(wid=506841292),\n",
       " OSMWay(wid=506841293),\n",
       " OSMWay(wid=506841295),\n",
       " OSMWay(wid=506841296),\n",
       " OSMWay(wid=506841297),\n",
       " OSMWay(wid=506841298),\n",
       " OSMWay(wid=524688745, name=Traver Road),\n",
       " OSMWay(wid=588147777),\n",
       " OSMWay(wid=588147784),\n",
       " OSMWay(wid=588147785),\n",
       " OSMWay(wid=588147792),\n",
       " OSMWay(wid=588147793),\n",
       " OSMWay(wid=588147794),\n",
       " OSMWay(wid=588147795),\n",
       " OSMWay(wid=588147796),\n",
       " OSMWay(wid=588147797),\n",
       " OSMWay(wid=588147798),\n",
       " OSMWay(wid=588147799),\n",
       " OSMWay(wid=588147800),\n",
       " OSMWay(wid=640398627),\n",
       " OSMWay(wid=640398983),\n",
       " OSMWay(wid=640398984),\n",
       " OSMWay(wid=640403694),\n",
       " OSMWay(wid=640403695),\n",
       " OSMWay(wid=640511113),\n",
       " OSMWay(wid=640511114),\n",
       " OSMWay(wid=725363655),\n",
       " OSMWay(wid=740427513)]"
      ]
     },
     "execution_count": 34,
     "metadata": {},
     "output_type": "execute_result"
    }
   ],
   "source": [
    "ways"
   ]
  },
  {
   "cell_type": "code",
   "execution_count": null,
   "metadata": {},
   "outputs": [],
   "source": [
    "import math"
   ]
  },
  {
   "cell_type": "code",
   "execution_count": null,
   "metadata": {},
   "outputs": [],
   "source": [
    "math.log2(631997299)"
   ]
  },
  {
   "cell_type": "code",
   "execution_count": null,
   "metadata": {},
   "outputs": [],
   "source": []
  },
  {
   "cell_type": "code",
   "execution_count": null,
   "metadata": {},
   "outputs": [],
   "source": [
    "locator = Nominatim(user_agent='ann_arbor')"
   ]
  },
  {
   "cell_type": "code",
   "execution_count": null,
   "metadata": {},
   "outputs": [],
   "source": [
    "coordinates = (42.292475, -83.682453)\n",
    "location = locator.reverse(query=coordinates, timeout=60)\n",
    "location.raw"
   ]
  },
  {
   "cell_type": "code",
   "execution_count": null,
   "metadata": {},
   "outputs": [],
   "source": []
  },
  {
   "cell_type": "code",
   "execution_count": null,
   "metadata": {},
   "outputs": [],
   "source": []
  },
  {
   "cell_type": "markdown",
   "metadata": {},
   "source": [
    "## Building the Trip Graph\n",
    "\n",
    "By looking at the data in the `trip_df` DataFrame, we can immediately see an interesting analysis opportunity. Between two nodes (`NodeIni` and `NodeEnd`), we can build an edge. Yes, I am talking about a directed graph. Let's build it using the known edge information (filtering out any edge with a _noise_ endpoint), and use their frequency as the edge weight."
   ]
  },
  {
   "cell_type": "code",
   "execution_count": null,
   "metadata": {},
   "outputs": [],
   "source": [
    "ids = ends_df.end_id.to_numpy()"
   ]
  },
  {
   "cell_type": "code",
   "execution_count": null,
   "metadata": {},
   "outputs": [],
   "source": [
    "id_pairs = np.reshape(ids, (ids.shape[0] // 2, 2))"
   ]
  },
  {
   "cell_type": "code",
   "execution_count": null,
   "metadata": {},
   "outputs": [],
   "source": [
    "id_pairs"
   ]
  },
  {
   "cell_type": "markdown",
   "metadata": {},
   "source": [
    "We can now build the raw list of edges."
   ]
  },
  {
   "cell_type": "code",
   "execution_count": null,
   "metadata": {},
   "outputs": [],
   "source": [
    "edges = [(id_pairs[i,0], id_pairs[i,1]) for i in range(id_pairs.shape[0]) if id_pairs[i,0] != -1 and id_pairs[i,1] != -1]"
   ]
  },
  {
   "cell_type": "markdown",
   "metadata": {},
   "source": [
    "A `Counter` object helps in the edge weight calculation and, in a way, embodies the first representation of the trip graph."
   ]
  },
  {
   "cell_type": "code",
   "execution_count": null,
   "metadata": {},
   "outputs": [],
   "source": [
    "cnt = Counter(edges)"
   ]
  },
  {
   "cell_type": "code",
   "execution_count": null,
   "metadata": {},
   "outputs": [],
   "source": [
    "len(cnt)"
   ]
  },
  {
   "cell_type": "markdown",
   "metadata": {},
   "source": [
    "## Optional - Create a Graph from Trip Data\n",
    "\n",
    "For illustration purposes, we now convert the edge informatio into a directed graph. We use the `networkx` package to create the graph and then save it into a `gephi` compatible file format."
   ]
  },
  {
   "cell_type": "code",
   "execution_count": null,
   "metadata": {},
   "outputs": [],
   "source": [
    "dg = nx.DiGraph()"
   ]
  },
  {
   "cell_type": "markdown",
   "metadata": {},
   "source": [
    "Create a list of tuples where each tuple contains the terminal node identifiers as well as the trip count."
   ]
  },
  {
   "cell_type": "code",
   "execution_count": null,
   "metadata": {},
   "outputs": [],
   "source": [
    "data = [(p[0], p[1], cnt[p]) for p in cnt]"
   ]
  },
  {
   "cell_type": "markdown",
   "metadata": {},
   "source": [
    "This list is now directly fed into the directed graph to instantiate it."
   ]
  },
  {
   "cell_type": "code",
   "execution_count": null,
   "metadata": {},
   "outputs": [],
   "source": [
    "dg.add_weighted_edges_from(data)"
   ]
  },
  {
   "cell_type": "markdown",
   "metadata": {},
   "source": [
    "Save the graph to a `gexf` file. This file format is recognized by the `gephi` graph software."
   ]
  },
  {
   "cell_type": "code",
   "execution_count": null,
   "metadata": {},
   "outputs": [],
   "source": [
    "nx.write_gexf(dg, \"./data/ved.gexf\")"
   ]
  },
  {
   "cell_type": "code",
   "execution_count": null,
   "metadata": {},
   "outputs": [],
   "source": []
  },
  {
   "cell_type": "code",
   "execution_count": null,
   "metadata": {},
   "outputs": [],
   "source": []
  },
  {
   "cell_type": "code",
   "execution_count": null,
   "metadata": {},
   "outputs": [],
   "source": [
    "edge_df = pd.DataFrame(data, columns=['NodeIni', 'NodeEnd', 'Count'])"
   ]
  },
  {
   "cell_type": "code",
   "execution_count": null,
   "metadata": {},
   "outputs": [],
   "source": [
    "edge_df = edge_df.sort_values(by=['Count'], ascending=False)"
   ]
  },
  {
   "cell_type": "code",
   "execution_count": null,
   "metadata": {},
   "outputs": [],
   "source": [
    "edge_df.head(10)"
   ]
  },
  {
   "cell_type": "code",
   "execution_count": null,
   "metadata": {},
   "outputs": [],
   "source": []
  },
  {
   "cell_type": "code",
   "execution_count": null,
   "metadata": {},
   "outputs": [],
   "source": [
    "m = make_link_map(node_ini=25, node_end=26)"
   ]
  },
  {
   "cell_type": "code",
   "execution_count": null,
   "metadata": {},
   "outputs": [],
   "source": [
    "m.save(\"./html/map-25-26.html\")"
   ]
  },
  {
   "cell_type": "code",
   "execution_count": null,
   "metadata": {},
   "outputs": [],
   "source": []
  }
 ],
 "metadata": {
  "kernelspec": {
   "display_name": "Python 3",
   "language": "python",
   "name": "python3"
  },
  "language_info": {
   "codemirror_mode": {
    "name": "ipython",
    "version": 3
   },
   "file_extension": ".py",
   "mimetype": "text/x-python",
   "name": "python",
   "nbconvert_exporter": "python",
   "pygments_lexer": "ipython3",
   "version": "3.6.8"
  }
 },
 "nbformat": 4,
 "nbformat_minor": 4
}
